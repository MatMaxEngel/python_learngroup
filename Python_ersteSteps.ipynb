{
  "nbformat": 4,
  "nbformat_minor": 0,
  "metadata": {
    "colab": {
      "name": "Python_ersteSteps.ipynb",
      "version": "0.3.2",
      "provenance": [],
      "collapsed_sections": []
    },
    "kernelspec": {
      "name": "python3",
      "display_name": "Python 3"
    }
  },
  "cells": [
    {
      "cell_type": "markdown",
      "metadata": {
        "id": "1W-diYJfuw_i",
        "colab_type": "text"
      },
      "source": [
        "# 1. Programmieren mit Python\n",
        "## 1.1 Erster Eindruck\n",
        "Dies ist mein **Python** Entwicklungsnotebook. \n",
        "\n",
        "Man kann alo auch Bilder einfügen-->![Das ist Anaconda](https://www.anaconda.com/wp-content/uploads/2018/06/cropped-Anaconda_horizontal_RGB-1-600x102.png)\n",
        "\n",
        "\n",
        "---\n",
        "\n",
        "\n",
        "\n",
        "\n",
        "1.   Erster Eindruck durch mathematische Operatoren gewinnen\n",
        "2.   Ich kann auch Text einfügen\n",
        "\n",
        "\n",
        "![alt text](https://youtu.be/aGw7Uds1IOk)\n",
        "\n",
        "\n"
      ]
    },
    {
      "cell_type": "markdown",
      "metadata": {
        "id": "lWM1eRv6x7r8",
        "colab_type": "text"
      },
      "source": [
        "Das ist mir wichtig!!!\n",
        "\n",
        "`print(\"Hello World\")`\n"
      ]
    },
    {
      "cell_type": "code",
      "metadata": {
        "id": "KPoq3NB5q-Fn",
        "colab_type": "code",
        "outputId": "70906d1e-ad1d-4ef1-d8f7-104ffff7a8a3",
        "colab": {
          "base_uri": "https://localhost:8080/",
          "height": 35
        }
      },
      "source": [
        "2+2"
      ],
      "execution_count": 3,
      "outputs": [
        {
          "output_type": "execute_result",
          "data": {
            "text/plain": [
              "4"
            ]
          },
          "metadata": {
            "tags": []
          },
          "execution_count": 3
        }
      ]
    },
    {
      "cell_type": "code",
      "metadata": {
        "id": "xtvOEHgJulBK",
        "colab_type": "code",
        "outputId": "eb339165-88e6-4fa3-c82d-1989a2dc2ddc",
        "colab": {
          "base_uri": "https://localhost:8080/",
          "height": 35
        }
      },
      "source": [
        "16%3"
      ],
      "execution_count": 4,
      "outputs": [
        {
          "output_type": "execute_result",
          "data": {
            "text/plain": [
              "1"
            ]
          },
          "metadata": {
            "tags": []
          },
          "execution_count": 4
        }
      ]
    },
    {
      "cell_type": "code",
      "metadata": {
        "id": "u5rriAQDyxc2",
        "colab_type": "code",
        "outputId": "60a34570-aab9-4f64-9dcd-fb99203026df",
        "colab": {
          "base_uri": "https://localhost:8080/",
          "height": 35
        }
      },
      "source": [
        "print(\"16%3\")"
      ],
      "execution_count": 5,
      "outputs": [
        {
          "output_type": "stream",
          "text": [
            "16%3\n"
          ],
          "name": "stdout"
        }
      ]
    },
    {
      "cell_type": "code",
      "metadata": {
        "id": "Kim8Lya4y6Nq",
        "colab_type": "code",
        "outputId": "57f76635-1318-41fc-9355-c11882f1867e",
        "colab": {
          "base_uri": "https://localhost:8080/",
          "height": 35
        }
      },
      "source": [
        "\"Hello World\""
      ],
      "execution_count": 6,
      "outputs": [
        {
          "output_type": "execute_result",
          "data": {
            "text/plain": [
              "'Hello World'"
            ]
          },
          "metadata": {
            "tags": []
          },
          "execution_count": 6
        }
      ]
    },
    {
      "cell_type": "markdown",
      "metadata": {
        "id": "yV2Yxqp_zaOl",
        "colab_type": "text"
      },
      "source": [
        "## 1.2 Variablen\n",
        "Variablen können \n",
        "\n",
        "\n",
        "1.   Ganzzahlen sein (1,2,3,4,5)\n",
        "2.   Gleitkommazahlen sein (1,2; 1,34229191; 3,79544)\n",
        "3.   Textwerte sein (\"Das ist ein Text\")\n",
        "4.   Fallunterscheidung sein (True/False)\n",
        "\n",
        "Die Namen der Variablen dürfen frei vergeben werden\n",
        "\n"
      ]
    },
    {
      "cell_type": "code",
      "metadata": {
        "id": "HlvI7ax70SpH",
        "colab_type": "code",
        "outputId": "30b3eec6-8d4f-493a-a3d8-d434d0bd3559",
        "colab": {
          "base_uri": "https://localhost:8080/",
          "height": 52
        }
      },
      "source": [
        "x = 10 #Mit x ist eine Variable deklariert worden, und dieser Variablen wird 10 zugewiesen\n",
        "print(x) #Inhalt von der Variablen x wird ausgegeben\n",
        "print(\"x -->aber nicht der Name der Variablen, sondern einfach nur Text\")"
      ],
      "execution_count": 7,
      "outputs": [
        {
          "output_type": "stream",
          "text": [
            "10\n",
            "x -->aber nicht der Name der Variablen, sondern einfach nur Text\n"
          ],
          "name": "stdout"
        }
      ]
    },
    {
      "cell_type": "code",
      "metadata": {
        "id": "v0U95X3r16rR",
        "colab_type": "code",
        "outputId": "5a2d2239-1c72-4d81-ee0c-0984b4b1d324",
        "colab": {
          "base_uri": "https://localhost:8080/",
          "height": 35
        }
      },
      "source": [
        "y = 5\n",
        "a=x+y\n",
        "print(a)"
      ],
      "execution_count": 8,
      "outputs": [
        {
          "output_type": "stream",
          "text": [
            "15\n"
          ],
          "name": "stdout"
        }
      ]
    },
    {
      "cell_type": "code",
      "metadata": {
        "id": "uUU6tyy827U2",
        "colab_type": "code",
        "outputId": "0f8cabe2-9c31-4a90-ed2b-15126b12539e",
        "colab": {
          "base_uri": "https://localhost:8080/",
          "height": 35
        }
      },
      "source": [
        "x=3+5\n",
        "print(x)"
      ],
      "execution_count": 9,
      "outputs": [
        {
          "output_type": "stream",
          "text": [
            "8\n"
          ],
          "name": "stdout"
        }
      ]
    },
    {
      "cell_type": "code",
      "metadata": {
        "id": "NZ4CGN_W3ePo",
        "colab_type": "code",
        "outputId": "bee687ae-08b6-405f-bc4d-465329b6a0f2",
        "colab": {
          "base_uri": "https://localhost:8080/",
          "height": 35
        }
      },
      "source": [
        "z=\"Hallo Text\"\n",
        "print(z)"
      ],
      "execution_count": 10,
      "outputs": [
        {
          "output_type": "stream",
          "text": [
            "Hallo Text\n"
          ],
          "name": "stdout"
        }
      ]
    },
    {
      "cell_type": "code",
      "metadata": {
        "id": "rnoaq8Kk3rdq",
        "colab_type": "code",
        "outputId": "ae27b694-9d8a-4c40-b9e9-98fb8e178b3c",
        "colab": {
          "base_uri": "https://localhost:8080/",
          "height": 35
        }
      },
      "source": [
        "a=\"Hallo\"+\"Text\"\n",
        "print(a)"
      ],
      "execution_count": 11,
      "outputs": [
        {
          "output_type": "stream",
          "text": [
            "HalloText\n"
          ],
          "name": "stdout"
        }
      ]
    },
    {
      "cell_type": "code",
      "metadata": {
        "id": "2DE4uwtM4UyH",
        "colab_type": "code",
        "outputId": "b6e420d9-a5ab-4a31-9bb0-22a89bd91bc9",
        "colab": {
          "base_uri": "https://localhost:8080/",
          "height": 35
        }
      },
      "source": [
        "DasistmeinIntegerwert=5\n",
        "print(DasistmeinIntegerwert)"
      ],
      "execution_count": 12,
      "outputs": [
        {
          "output_type": "stream",
          "text": [
            "5\n"
          ],
          "name": "stdout"
        }
      ]
    },
    {
      "cell_type": "code",
      "metadata": {
        "id": "TXIVI5pn4xmv",
        "colab_type": "code",
        "outputId": "71a66f5a-b7a3-4451-f8dd-3e920f879adc",
        "colab": {
          "base_uri": "https://localhost:8080/",
          "height": 35
        }
      },
      "source": [
        "list(range(19))"
      ],
      "execution_count": 13,
      "outputs": [
        {
          "output_type": "execute_result",
          "data": {
            "text/plain": [
              "[0, 1, 2, 3, 4, 5, 6, 7, 8, 9, 10, 11, 12, 13, 14, 15, 16, 17, 18]"
            ]
          },
          "metadata": {
            "tags": []
          },
          "execution_count": 13
        }
      ]
    },
    {
      "cell_type": "markdown",
      "metadata": {
        "id": "uJ2_ZbQT5LJK",
        "colab_type": "text"
      },
      "source": [
        "## 1.3 Kontrollstrukturen\n",
        "### 1.3.1 If-Then-Else (bedingte Anweisungen)\n",
        "bedingte Anweisungen wie z.B. eine If-Then-Else (Fallunterscheidung)\n",
        "\n",
        "oder eine Schleife"
      ]
    },
    {
      "cell_type": "code",
      "metadata": {
        "id": "ejlnW-XT565O",
        "colab_type": "code",
        "outputId": "d6ce5ae4-2a06-408d-d555-edddd37cf7ee",
        "colab": {
          "base_uri": "https://localhost:8080/",
          "height": 52
        }
      },
      "source": [
        "person = input (\"Nationalität?\")\n",
        "print(person)"
      ],
      "execution_count": 14,
      "outputs": [
        {
          "output_type": "stream",
          "text": [
            "Nationalität?deutsch\n",
            "deutsch\n"
          ],
          "name": "stdout"
        }
      ]
    },
    {
      "cell_type": "code",
      "metadata": {
        "id": "kSJukbHo6R7N",
        "colab_type": "code",
        "outputId": "41fe18be-c448-4f47-9835-72ac721b66f6",
        "colab": {
          "base_uri": "https://localhost:8080/",
          "height": 52
        }
      },
      "source": [
        "if person == \"french\" or person ==\"Französisch\":\n",
        "  print(\"Ich bin \"+person)\n",
        "else:\n",
        "  print(\"Hat nicht geklappt mit Französisch\")\n",
        "print(\"If-Then-Else-Fertig!\")"
      ],
      "execution_count": 15,
      "outputs": [
        {
          "output_type": "stream",
          "text": [
            "Hat nicht geklappt mit Französisch\n",
            "If-Then-Else-Fertig!\n"
          ],
          "name": "stdout"
        }
      ]
    },
    {
      "cell_type": "code",
      "metadata": {
        "id": "-jnNAiD6ulS0",
        "colab_type": "code",
        "outputId": "4642b86e-4f8c-4a47-a5f9-52214a80cb38",
        "colab": {
          "base_uri": "https://localhost:8080/",
          "height": 52
        }
      },
      "source": [
        "if person == \"french\" or person ==\"Französisch\":\n",
        "  print(\"Ich bin \"+person)\n",
        "elif person == \"deutsch\":\n",
        "  print(\"Deutsch\")\n",
        "else:\n",
        "  print(\"Hat nicht geklappt mit Französisch\")\n",
        "print(\"If-Then-Else-Fertig!\")"
      ],
      "execution_count": 16,
      "outputs": [
        {
          "output_type": "stream",
          "text": [
            "Deutsch\n",
            "If-Then-Else-Fertig!\n"
          ],
          "name": "stdout"
        }
      ]
    },
    {
      "cell_type": "markdown",
      "metadata": {
        "id": "ZfJmZI5CvIfS",
        "colab_type": "text"
      },
      "source": [
        "### 1.3.2 Schleifen (For-Schleifen)\n",
        "Die For-Schleife hat einen Zähler als Bedingung. Und die Bedingung wird solange ausgeführt, bis der Zähler erreicht wird."
      ]
    },
    {
      "cell_type": "code",
      "metadata": {
        "id": "fVJk_FAAwQvf",
        "colab_type": "code",
        "outputId": "4b82d6e7-b3e9-4ca4-c78a-92e686c2f838",
        "colab": {
          "base_uri": "https://localhost:8080/",
          "height": 69
        }
      },
      "source": [
        "for n in range(3):    #mit for (Signalwort) wird die Schleife geöffnet. Mit n in range() wird die Bedingung geprüft. Abgeschlossen wird die Zeile mit :\n",
        "  print(n)            #Was soll ausgeführt werden?\n",
        "  pass                #Abschluss der Schleife"
      ],
      "execution_count": 19,
      "outputs": [
        {
          "output_type": "stream",
          "text": [
            "0\n",
            "1\n",
            "2\n"
          ],
          "name": "stdout"
        }
      ]
    },
    {
      "cell_type": "markdown",
      "metadata": {
        "id": "t-Uc6vF5xiys",
        "colab_type": "text"
      },
      "source": [
        "***1. Aufgabe: ***\n",
        "Es soll eine Integervariable per input eingegeben werden. Diese Variable dient als Wert der ausgegeben werden soll (Bsp. 5!)\n",
        "Bsp-Ausgabe: \n",
        "\"Bei 0! ist der Ausgabewert 1\"\n",
        "\"Bei 1! ist der Ausgabewert 1\"\n",
        "\"Bei 2!....\"\n",
        "...\n",
        "\"Bei 5! ...\""
      ]
    },
    {
      "cell_type": "code",
      "metadata": {
        "id": "NgBlBp972e0e",
        "colab_type": "code",
        "outputId": "817af3cf-a886-4014-c480-9ee33cc959f1",
        "colab": {
          "base_uri": "https://localhost:8080/",
          "height": 208
        }
      },
      "source": [
        "# 1. Teilproblem ist der Input, welcher in einer Variablen abgespeichert wird\n",
        "eingabe= input(\"Geben Sie einen Integerwert ein?\")\n",
        "print(eingabe)\n",
        "# 2. Ausgabe des Wertes (Text und Werte/Variablenwerte/berechnete Fakultätswerte sollen ausgegeben werden)\n",
        "#print(\"Bei \", eingabe, \"! ist der Ausgabewert \", 120)\n",
        "# 3. Teilproblem: Berechnung der Fakultät\n",
        "print(eingabe)\n",
        "# 4. Teilproblem: 2. und 3. sollen für alle Werte von 0 bis Input durchgeführt werden\n",
        "print(type(eingabe)) #Hiermit wird der Variablentyp erfragt. Sollte dieser nicht integer sein, so müssen wir diesen wandeln.\n",
        "int_eingabe=int(eingabe)+1 #string-Wert in Integerwert wandeln\n",
        "zaehler = 1\n",
        "print(zaehler)\n",
        "\n",
        "for n in range(int_eingabe):\n",
        "  if n == 0:\n",
        "     zaehler = 1\n",
        "  else:\n",
        "    zaehler= n*zaehler     # Berechnung der Fakultät\n",
        "  print(\"Bei \", n, \"! ist der Ausgabewert \", zaehler) # Ausgabe aus 2.\n",
        "  pass # pass"
      ],
      "execution_count": 21,
      "outputs": [
        {
          "output_type": "stream",
          "text": [
            "Geben Sie einen Integerwert ein?5\n",
            "5\n",
            "5\n",
            "<class 'str'>\n",
            "1\n",
            "Bei  0 ! ist der Ausgabewert  1\n",
            "Bei  1 ! ist der Ausgabewert  1\n",
            "Bei  2 ! ist der Ausgabewert  2\n",
            "Bei  3 ! ist der Ausgabewert  6\n",
            "Bei  4 ! ist der Ausgabewert  24\n",
            "Bei  5 ! ist der Ausgabewert  120\n"
          ],
          "name": "stdout"
        }
      ]
    },
    {
      "cell_type": "markdown",
      "metadata": {
        "id": "A_pwcSUFyahu",
        "colab_type": "text"
      },
      "source": [
        "***2. Aufgabe:***\n",
        "Es soll wieder eine Integervariable eingegeben werden (per input). Diesmal soll jedoch nur der gerade Wert ausgegeben werden.\n",
        "Bsp-Ausgabe:\n",
        "Wenn Input = 5 dann...\n",
        "1 (nicht ausgeben)\n",
        "2\n",
        "3 (nicht ausgeben)\n",
        "4\n",
        "5 (nicht ausgeben)"
      ]
    },
    {
      "cell_type": "code",
      "metadata": {
        "id": "2CQVaqHpme6v",
        "colab_type": "code",
        "colab": {
          "base_uri": "https://localhost:8080/",
          "height": 52
        },
        "outputId": "fa2c14b6-c471-46b2-a1ce-b0c7988b3e53"
      },
      "source": [
        "#Beachte hierbei den Modulo-Wert (also den Restwert). Bsp. 5%2\n",
        "\n",
        "eingabe=input(\"Integerwert eingeben\")\n",
        "int_eingabe=int(eingabe)\n",
        "prüfung =int_eingabe%2\n",
        "\n",
        "if prüfung == 0:\n",
        "  print(\"Die Eingabe war ein gerader Wert und lautet: \", int_eingabe)"
      ],
      "execution_count": 23,
      "outputs": [
        {
          "output_type": "stream",
          "text": [
            "Integerwert eingeben4\n",
            "Die Eingabe war ein gerader Wert und lautet:  4\n"
          ],
          "name": "stdout"
        }
      ]
    }
  ]
}