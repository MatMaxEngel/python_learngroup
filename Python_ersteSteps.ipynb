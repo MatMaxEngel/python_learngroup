{
  "nbformat": 4,
  "nbformat_minor": 0,
  "metadata": {
    "colab": {
      "name": "Python_ersteSteps.ipynb",
      "version": "0.3.2",
      "provenance": [],
      "collapsed_sections": []
    },
    "kernelspec": {
      "name": "python3",
      "display_name": "Python 3"
    }
  },
  "cells": [
    {
      "cell_type": "markdown",
      "metadata": {
        "id": "1W-diYJfuw_i",
        "colab_type": "text"
      },
      "source": [
        "# 1. Programmieren mit Python\n",
        "## 1.1 Erster Eindruck\n",
        "Dies ist mein **Python** Entwicklungsnotebook. \n",
        "\n",
        "Man kann alo auch Bilder einfügen-->![Das ist Anaconda](https://www.anaconda.com/wp-content/uploads/2018/06/cropped-Anaconda_horizontal_RGB-1-600x102.png)\n",
        "\n",
        "\n",
        "---\n",
        "\n",
        "\n",
        "\n",
        "\n",
        "1.   Erster Eindruck durch mathematische Operatoren gewinnen\n",
        "2.   Ich kann auch Text einfügen\n",
        "\n",
        "\n",
        "![alt text](https://youtu.be/aGw7Uds1IOk)\n",
        "\n",
        "\n"
      ]
    },
    {
      "cell_type": "markdown",
      "metadata": {
        "id": "lWM1eRv6x7r8",
        "colab_type": "text"
      },
      "source": [
        "Das ist mir wichtig!!!\n",
        "\n",
        "`print(\"Hello World\")`\n"
      ]
    },
    {
      "cell_type": "code",
      "metadata": {
        "id": "KPoq3NB5q-Fn",
        "colab_type": "code",
        "outputId": "4ab970a5-2fac-4ea7-c27a-f62fcdaab3e5",
        "colab": {
          "base_uri": "https://localhost:8080/",
          "height": 34
        }
      },
      "source": [
        "2+2"
      ],
      "execution_count": 0,
      "outputs": [
        {
          "output_type": "execute_result",
          "data": {
            "text/plain": [
              "4"
            ]
          },
          "metadata": {
            "tags": []
          },
          "execution_count": 33
        }
      ]
    },
    {
      "cell_type": "code",
      "metadata": {
        "id": "xtvOEHgJulBK",
        "colab_type": "code",
        "outputId": "386aea1e-b1ea-496d-e03a-125720151c07",
        "colab": {
          "base_uri": "https://localhost:8080/",
          "height": 34
        }
      },
      "source": [
        "16%3"
      ],
      "execution_count": 0,
      "outputs": [
        {
          "output_type": "execute_result",
          "data": {
            "text/plain": [
              "1"
            ]
          },
          "metadata": {
            "tags": []
          },
          "execution_count": 34
        }
      ]
    },
    {
      "cell_type": "code",
      "metadata": {
        "id": "u5rriAQDyxc2",
        "colab_type": "code",
        "outputId": "750641fa-1b79-4b5b-fba3-10a73412b51e",
        "colab": {
          "base_uri": "https://localhost:8080/",
          "height": 34
        }
      },
      "source": [
        "print(\"16%3\")"
      ],
      "execution_count": 0,
      "outputs": [
        {
          "output_type": "stream",
          "text": [
            "16%3\n"
          ],
          "name": "stdout"
        }
      ]
    },
    {
      "cell_type": "code",
      "metadata": {
        "id": "Kim8Lya4y6Nq",
        "colab_type": "code",
        "outputId": "8c96e5fb-78da-48b5-d2a4-ed15089bb305",
        "colab": {
          "base_uri": "https://localhost:8080/",
          "height": 34
        }
      },
      "source": [
        "\"Hello World\""
      ],
      "execution_count": 0,
      "outputs": [
        {
          "output_type": "execute_result",
          "data": {
            "text/plain": [
              "'Hello World'"
            ]
          },
          "metadata": {
            "tags": []
          },
          "execution_count": 36
        }
      ]
    },
    {
      "cell_type": "markdown",
      "metadata": {
        "id": "yV2Yxqp_zaOl",
        "colab_type": "text"
      },
      "source": [
        "## 1.2 Variablen\n",
        "Variablen können \n",
        "\n",
        "\n",
        "1.   Ganzzahlen sein (1,2,3,4,5)\n",
        "2.   Gleitkommazahlen sein (1,2; 1,34229191; 3,79544)\n",
        "3.   Textwerte sein (\"Das ist ein Text\")\n",
        "4.   Fallunterscheidung sein (True/False)\n",
        "\n",
        "Die Namen der Variablen dürfen frei vergeben werden\n",
        "\n"
      ]
    },
    {
      "cell_type": "code",
      "metadata": {
        "id": "HlvI7ax70SpH",
        "colab_type": "code",
        "outputId": "8bc614ce-172d-4bfb-d914-826496732dec",
        "colab": {
          "base_uri": "https://localhost:8080/",
          "height": 51
        }
      },
      "source": [
        "x = 10 #Mit x ist eine Variable deklariert worden, und dieser Variablen wird 10 zugewiesen\n",
        "print(x) #Inhalt von der Variablen x wird ausgegeben\n",
        "print(\"x -->aber nicht der Name der Variablen, sondern einfach nur Text\")"
      ],
      "execution_count": 0,
      "outputs": [
        {
          "output_type": "stream",
          "text": [
            "10\n",
            "x -->aber nicht der Name der Variablen, sondern einfach nur Text\n"
          ],
          "name": "stdout"
        }
      ]
    },
    {
      "cell_type": "code",
      "metadata": {
        "id": "v0U95X3r16rR",
        "colab_type": "code",
        "outputId": "516722cc-3d52-42b3-9887-0a03eeaa5015",
        "colab": {
          "base_uri": "https://localhost:8080/",
          "height": 34
        }
      },
      "source": [
        "y = 5\n",
        "a=x+y\n",
        "print(a)"
      ],
      "execution_count": 0,
      "outputs": [
        {
          "output_type": "stream",
          "text": [
            "15\n"
          ],
          "name": "stdout"
        }
      ]
    },
    {
      "cell_type": "code",
      "metadata": {
        "id": "uUU6tyy827U2",
        "colab_type": "code",
        "outputId": "8bc99f7b-baeb-476b-f0cf-a2df0a4b1175",
        "colab": {
          "base_uri": "https://localhost:8080/",
          "height": 34
        }
      },
      "source": [
        "x=3+5\n",
        "print(x)"
      ],
      "execution_count": 0,
      "outputs": [
        {
          "output_type": "stream",
          "text": [
            "8\n"
          ],
          "name": "stdout"
        }
      ]
    },
    {
      "cell_type": "code",
      "metadata": {
        "id": "NZ4CGN_W3ePo",
        "colab_type": "code",
        "outputId": "d382370c-31da-41cf-8284-5982af50cf89",
        "colab": {
          "base_uri": "https://localhost:8080/",
          "height": 34
        }
      },
      "source": [
        "z=\"Hallo Text\"\n",
        "print(z)"
      ],
      "execution_count": 0,
      "outputs": [
        {
          "output_type": "stream",
          "text": [
            "Hallo Text\n"
          ],
          "name": "stdout"
        }
      ]
    },
    {
      "cell_type": "code",
      "metadata": {
        "id": "rnoaq8Kk3rdq",
        "colab_type": "code",
        "outputId": "78e4e011-5bae-4d22-9daf-ec56e90f85ca",
        "colab": {
          "base_uri": "https://localhost:8080/",
          "height": 34
        }
      },
      "source": [
        "a=\"Hallo\"+\"Text\"\n",
        "print(a)"
      ],
      "execution_count": 0,
      "outputs": [
        {
          "output_type": "stream",
          "text": [
            "HalloText\n"
          ],
          "name": "stdout"
        }
      ]
    },
    {
      "cell_type": "code",
      "metadata": {
        "id": "2DE4uwtM4UyH",
        "colab_type": "code",
        "outputId": "971f5e7c-3ce0-4ec6-b960-272d1bdd4038",
        "colab": {
          "base_uri": "https://localhost:8080/",
          "height": 34
        }
      },
      "source": [
        "DasistmeinIntegerwert=5\n",
        "print(DasistmeinIntegerwert)"
      ],
      "execution_count": 0,
      "outputs": [
        {
          "output_type": "stream",
          "text": [
            "5\n"
          ],
          "name": "stdout"
        }
      ]
    },
    {
      "cell_type": "code",
      "metadata": {
        "id": "TXIVI5pn4xmv",
        "colab_type": "code",
        "outputId": "58a7609f-9def-4da0-fd4e-420b27afc062",
        "colab": {
          "base_uri": "https://localhost:8080/",
          "height": 34
        }
      },
      "source": [
        "list(range(19))"
      ],
      "execution_count": 0,
      "outputs": [
        {
          "output_type": "execute_result",
          "data": {
            "text/plain": [
              "[0, 1, 2, 3, 4, 5, 6, 7, 8, 9, 10, 11, 12, 13, 14, 15, 16, 17, 18]"
            ]
          },
          "metadata": {
            "tags": []
          },
          "execution_count": 49
        }
      ]
    },
    {
      "cell_type": "markdown",
      "metadata": {
        "id": "uJ2_ZbQT5LJK",
        "colab_type": "text"
      },
      "source": [
        "## 1.3 Kontrollstrukturen\n",
        "### 1.3.1 If-Then-Else (bedingte Anweisungen)\n",
        "bedingte Anweisungen wie z.B. eine If-Then-Else (Fallunterscheidung)\n",
        "\n",
        "oder eine Schleife"
      ]
    },
    {
      "cell_type": "code",
      "metadata": {
        "id": "ejlnW-XT565O",
        "colab_type": "code",
        "outputId": "4ba6fdda-31ee-47ed-9eb3-62100397be13",
        "colab": {
          "base_uri": "https://localhost:8080/",
          "height": 183
        }
      },
      "source": [
        "person = input (\"Nationalität?\")\n",
        "print(person)"
      ],
      "execution_count": 19,
      "outputs": [
        {
          "output_type": "error",
          "ename": "TypeError",
          "evalue": "ignored",
          "traceback": [
            "\u001b[0;31m---------------------------------------------------------------------------\u001b[0m",
            "\u001b[0;31mTypeError\u001b[0m                                 Traceback (most recent call last)",
            "\u001b[0;32m<ipython-input-19-e33d170ccd4e>\u001b[0m in \u001b[0;36m<module>\u001b[0;34m()\u001b[0m\n\u001b[0;32m----> 1\u001b[0;31m \u001b[0mperson\u001b[0m \u001b[0;34m=\u001b[0m \u001b[0minput\u001b[0m \u001b[0;34m(\u001b[0m\u001b[0;34m\"Nationalität?\"\u001b[0m\u001b[0;34m)\u001b[0m\u001b[0;34m\u001b[0m\u001b[0;34m\u001b[0m\u001b[0m\n\u001b[0m\u001b[1;32m      2\u001b[0m \u001b[0mprint\u001b[0m\u001b[0;34m(\u001b[0m\u001b[0mperson\u001b[0m\u001b[0;34m)\u001b[0m\u001b[0;34m\u001b[0m\u001b[0;34m\u001b[0m\u001b[0m\n",
            "\u001b[0;31mTypeError\u001b[0m: 'int' object is not callable"
          ]
        }
      ]
    },
    {
      "cell_type": "code",
      "metadata": {
        "id": "kSJukbHo6R7N",
        "colab_type": "code",
        "outputId": "cc72251a-89da-4e63-ddf8-2fc7c926b4b3",
        "colab": {
          "base_uri": "https://localhost:8080/",
          "height": 51
        }
      },
      "source": [
        "if person == \"french\" or person ==\"Französisch\":\n",
        "  print(\"Ich bin \"+person)\n",
        "else:\n",
        "  print(\"Hat nicht geklappt mit Französisch\")\n",
        "print(\"If-Then-Else-Fertig!\")"
      ],
      "execution_count": 0,
      "outputs": [
        {
          "output_type": "stream",
          "text": [
            "Hat nicht geklappt mit Französisch\n",
            "If-Then-Else-Fertig!\n"
          ],
          "name": "stdout"
        }
      ]
    },
    {
      "cell_type": "code",
      "metadata": {
        "id": "-jnNAiD6ulS0",
        "colab_type": "code",
        "outputId": "3fd28c49-fbc2-4211-a8af-bdc54847bf73",
        "colab": {
          "base_uri": "https://localhost:8080/",
          "height": 51
        }
      },
      "source": [
        "if person == \"french\" or person ==\"Französisch\":\n",
        "  print(\"Ich bin \"+person)\n",
        "elif person == \"deutsch\":\n",
        "  print(\"Deutsch\")\n",
        "else:\n",
        "  print(\"Hat nicht geklappt mit Französisch\")\n",
        "print(\"If-Then-Else-Fertig!\")"
      ],
      "execution_count": 0,
      "outputs": [
        {
          "output_type": "stream",
          "text": [
            "Deutsch\n",
            "If-Then-Else-Fertig!\n"
          ],
          "name": "stdout"
        }
      ]
    },
    {
      "cell_type": "markdown",
      "metadata": {
        "id": "ZfJmZI5CvIfS",
        "colab_type": "text"
      },
      "source": [
        "### 1.3.2 Schleifen (For-Schleifen)\n",
        "Die For-Schleife hat einen Zähler als Bedingung. Und die Bedingung wird solange ausgeführt, bis der Zähler erreicht wird."
      ]
    },
    {
      "cell_type": "code",
      "metadata": {
        "id": "fVJk_FAAwQvf",
        "colab_type": "code",
        "outputId": "0e46891a-9d21-441f-d188-9c10e62b6e4e",
        "colab": {
          "base_uri": "https://localhost:8080/",
          "height": 69
        }
      },
      "source": [
        "for n in range(3): \n",
        "  mn= #mit for (Signalwort) wird die Schleife geöffnet. Mit n in range() wird die Bedingung geprüft. Abgeschlossen wird die Zeile mit :\n",
        "  print(n)            #Was soll ausgeführt werden?\n",
        "  pass                #Abschluss der Schleife"
      ],
      "execution_count": 0,
      "outputs": [
        {
          "output_type": "stream",
          "text": [
            "0\n",
            "1\n",
            "2\n"
          ],
          "name": "stdout"
        }
      ]
    },
    {
      "cell_type": "markdown",
      "metadata": {
        "id": "t-Uc6vF5xiys",
        "colab_type": "text"
      },
      "source": [
        "***1. Aufgabe: ***\n",
        "Es soll eine Integervariable per input eingegeben werden. Diese Variable dient als Wert der ausgegeben werden soll (Bsp. 5!)\n",
        "Bsp-Ausgabe: \n",
        "\"Bei 0! ist der Ausgabewert 1\"\n",
        "\"Bei 1! ist der Ausgabewert 1\"\n",
        "\"Bei 2!....\"\n",
        "...\n",
        "\"Bei 5! ...\""
      ]
    },
    {
      "cell_type": "code",
      "metadata": {
        "id": "NgBlBp972e0e",
        "colab_type": "code",
        "outputId": "288f85ec-d307-472a-8701-4bd310fa2a97",
        "colab": {
          "base_uri": "https://localhost:8080/",
          "height": 235
        }
      },
      "source": [
        "# 1. Teilproblem ist der Input, welcher in einer Variablen abgespeichert wird\n",
        "eingabe= input(\"Geben Sie einen Integerwert ein?\")\n",
        "print(eingabe)\n",
        "# 2. Ausgabe des Wertes (Text und Werte/Variablenwerte/berechnete Fakultätswerte sollen ausgegeben werden)\n",
        "#print(\"Bei \", eingabe, \"! ist der Ausgabewert \", 120)\n",
        "# 3. Teilproblem: Berechnung der Fakultät\n",
        "print(eingabe)\n",
        "# 4. Teilproblem: 2. und 3. sollen für alle Werte von 0 bis Input durchgeführt werden\n",
        "type(eingabe) #Hiermit wird der Variablentyp erfragt. Sollte dieser nicht integer sein, so müssen wir diesen wandeln.\n",
        "int_eingabe=int(eingabe) #string-Wert in Integerwert wandeln\n",
        "zaehler = 1\n",
        "print(zaehler)\n",
        "\n",
        "for n in range(int_eingabe):\n",
        "  if n == 0:\n",
        "     zaehler = 1\n",
        "  else:\n",
        "    zaehler= n*zaehler     # Berechnung der Fakultät\n",
        "  print(\"Bei \", n, \"! ist der Ausgabewert \", zaehler) # Ausgabe aus 2.\n",
        "  pass # pass"
      ],
      "execution_count": 17,
      "outputs": [
        {
          "output_type": "error",
          "ename": "TypeError",
          "evalue": "ignored",
          "traceback": [
            "\u001b[0;31m---------------------------------------------------------------------------\u001b[0m",
            "\u001b[0;31mTypeError\u001b[0m                                 Traceback (most recent call last)",
            "\u001b[0;32m<ipython-input-17-0028b3b96b6a>\u001b[0m in \u001b[0;36m<module>\u001b[0;34m()\u001b[0m\n\u001b[0;32m----> 1\u001b[0;31m \u001b[0meingabe\u001b[0m \u001b[0;34m=\u001b[0m \u001b[0minput\u001b[0m \u001b[0;34m(\u001b[0m\u001b[0;34m\"Nationalität?\"\u001b[0m\u001b[0;34m)\u001b[0m\u001b[0;34m\u001b[0m\u001b[0;34m\u001b[0m\u001b[0m\n\u001b[0m\u001b[1;32m      2\u001b[0m \u001b[0;31m#eingabe= input(\"Geben Sie einen Integerwert ein?\")\u001b[0m\u001b[0;34m\u001b[0m\u001b[0;34m\u001b[0m\u001b[0;34m\u001b[0m\u001b[0m\n\u001b[1;32m      3\u001b[0m \u001b[0mprint\u001b[0m\u001b[0;34m(\u001b[0m\u001b[0meingabe\u001b[0m\u001b[0;34m)\u001b[0m\u001b[0;34m\u001b[0m\u001b[0;34m\u001b[0m\u001b[0m\n\u001b[1;32m      4\u001b[0m \u001b[0;31m# 2. Ausgabe des Wertes (Text und Werte/Variablenwerte/berechnete Fakultätswerte sollen ausgegeben werden)\u001b[0m\u001b[0;34m\u001b[0m\u001b[0;34m\u001b[0m\u001b[0;34m\u001b[0m\u001b[0m\n\u001b[1;32m      5\u001b[0m \u001b[0;31m#print(\"Bei \", eingabe, \"! ist der Ausgabewert \", 120)\u001b[0m\u001b[0;34m\u001b[0m\u001b[0;34m\u001b[0m\u001b[0;34m\u001b[0m\u001b[0m\n",
            "\u001b[0;31mTypeError\u001b[0m: 'int' object is not callable"
          ]
        }
      ]
    },
    {
      "cell_type": "markdown",
      "metadata": {
        "id": "A_pwcSUFyahu",
        "colab_type": "text"
      },
      "source": [
        "***2. Aufgabe:***\n",
        "Es soll wieder eine Integervariable eingegeben werden (per input). Diesmal soll jedoch nur der gerade Wert ausgegeben werden.\n",
        "Bsp-Ausgabe:\n",
        "Wenn Input = 5 dann...\n",
        "1 (nicht ausgeben)\n",
        "2\n",
        "3 (nicht ausgeben)\n",
        "4\n",
        "5 (nicht ausgeben)"
      ]
    }
  ]
}