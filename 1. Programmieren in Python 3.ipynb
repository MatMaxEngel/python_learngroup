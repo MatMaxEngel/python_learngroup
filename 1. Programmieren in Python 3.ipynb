{
  "nbformat": 4,
  "nbformat_minor": 0,
  "metadata": {
    "colab": {
      "name": "1. Programmieren in Python 3.x.ipynb",
      "version": "0.3.2",
      "provenance": []
    },
    "language_info": {
      "codemirror_mode": {
        "name": "ipython",
        "version": 3
      },
      "file_extension": ".py",
      "mimetype": "text/x-python",
      "name": "python",
      "nbconvert_exporter": "python",
      "pygments_lexer": "ipython3",
      "version": "3.6.5"
    },
    "kernelspec": {
      "display_name": "Python 3",
      "language": "python",
      "name": "python3"
    }
  },
  "cells": [
    {
      "cell_type": "markdown",
      "metadata": {
        "id": "fWIND5CEM17X",
        "colab_type": "text"
      },
      "source": [
        "# 1. Programmierung in Python 3.x"
      ]
    },
    {
      "cell_type": "markdown",
      "metadata": {
        "id": "NDJTkHtOM17Y",
        "colab_type": "text"
      },
      "source": [
        "Python ist eine Programmiersprache, welche aufgrund Ihrer Einfachheit aber auch aufgrund der umfangreichen Community sehr erfolgreich ist. Aktuell belegt Python in diversen Programmiersprachenrankings die Plätze 1 bis 3 teils noch vor den großen Platzhirschen Java, C++, Swift und Javascript.\n",
        "\n",
        "Python erfreut sich hoher Beliebtheit im Umfeld des Data Mining und der Künstlichen Intelligenz, nicht zuletzt durch die Freigabe diverser Frameworks wie Tensorflow (von Google), Caffe2 (Facebook) oder Gym (OpenAI).\n",
        "Um Python oder auch andere Programmiersprachen ausführen zu können benötigt man einen Interpreter sowie eine IDE (Entwicklungsumgebung). Auf den PC´s der Hochschule ist daher das aktuelle Anaconda Paket (https://www.anaconda.com/what-is-anaconda/) installiert worden. Seit wenigen Jahren gibt es dewesweiteren eine komfortable und einfache Möglichkeit Programmiertes mit Kommentaren, Überschriften und Texten zu versehen. Dies wird als iPython (Interaktives Python) oder Jupyter Notebooks bezeichnet. Diese Datei ist ein solches Notebook. Die Texte, Überschriften und auch Programmzeilen können jederzeit verändert und nach einem Drücken des Run-Buttons neu kompiliert werden.\n",
        "\n",
        "\n",
        "In dem folgenden Notebook werden die wichtigsten Elemente aus Python 3.X behandelt, welche im Zusammenhang mit einem Feed-Forward-Neural Net benötigt werden. Aus Zeitgründen kann nicht auf alle Elemente umfassender bzw. auf nicht erwähnte Elemente darüberhinaus eingegangen werden. Diese können jedoch gerne in der in der Vorlesung erwähnten Literatur nachgeschlagen werden. Es ist spannend, was noch alles möglich ist. Z.B. mit pygame\n",
        "\n",
        "Aber fangen wir nun erst mal an. Frisch ans Werk!! Es lohnt sich und macht Spaß!"
      ]
    },
    {
      "cell_type": "markdown",
      "metadata": {
        "id": "k8qSAq0OM17Z",
        "colab_type": "text"
      },
      "source": [
        "## 1.1 Erster Eindruck"
      ]
    },
    {
      "cell_type": "code",
      "metadata": {
        "id": "iACNBYSKM17Z",
        "colab_type": "code",
        "colab": {},
        "outputId": "2f82c81a-3c2f-475a-98d8-62c4f09ab3bd"
      },
      "source": [
        "2+3"
      ],
      "execution_count": 0,
      "outputs": [
        {
          "output_type": "execute_result",
          "data": {
            "text/plain": [
              "5"
            ]
          },
          "metadata": {
            "tags": []
          },
          "execution_count": 1
        }
      ]
    },
    {
      "cell_type": "code",
      "metadata": {
        "id": "yFPRR6t-M17e",
        "colab_type": "code",
        "colab": {},
        "outputId": "756660e7-e3af-49a8-b626-337db0df3d80"
      },
      "source": [
        "2*3"
      ],
      "execution_count": 0,
      "outputs": [
        {
          "output_type": "execute_result",
          "data": {
            "text/plain": [
              "6"
            ]
          },
          "metadata": {
            "tags": []
          },
          "execution_count": 2
        }
      ]
    },
    {
      "cell_type": "code",
      "metadata": {
        "id": "0GgOk_MJM17i",
        "colab_type": "code",
        "colab": {},
        "outputId": "1bb42fdd-e027-465e-fee9-e769415de179"
      },
      "source": [
        "print(\"Hello World!\")"
      ],
      "execution_count": 0,
      "outputs": [
        {
          "output_type": "stream",
          "text": [
            "Hello World!\n"
          ],
          "name": "stdout"
        }
      ]
    },
    {
      "cell_type": "markdown",
      "metadata": {
        "id": "R2xBrM_qM17l",
        "colab_type": "text"
      },
      "source": [
        "Verändern Sie die obigen Zellen, indem Sie die Werte ändern. Durch ein Drücken des Run-Buttons bzw. die Tastenkombination Strg+Enter wird diese Zeile ausgeführt.\n",
        "\n",
        "Sie können auch die Rechenoperatoren verändern. Folgende Operatoren stehen zur Auswahl:\n",
        "    +,-      Addition und Subtraktion (Bsp.: 10+3-2)\n",
        "    Stern,%  Multiplikation und Rest (27%7 Ergebnis=6)\n",
        "    /        Division         (10/3=3,333333)\n",
        "    //       Ganzzahldivision (10//3 =3)\n",
        "\n",
        "\n",
        "Eine Anweisung wie in den Zeilen 1, 2 oder 3 nennt man auch Instruktionen."
      ]
    },
    {
      "cell_type": "markdown",
      "metadata": {
        "id": "Qg0b3sBEM17m",
        "colab_type": "text"
      },
      "source": [
        "## 1.2 Variablen"
      ]
    },
    {
      "cell_type": "code",
      "metadata": {
        "id": "z7RMD-35M17n",
        "colab_type": "code",
        "colab": {},
        "outputId": "5b587232-df0b-474a-a991-dab187e2db65"
      },
      "source": [
        "x = 10\n",
        "print(x)\n",
        "print(x+5)\n",
        "y = x+7\n",
        "print(y)\n",
        "print(z)"
      ],
      "execution_count": 0,
      "outputs": [
        {
          "output_type": "stream",
          "text": [
            "10\n",
            "15\n",
            "17\n"
          ],
          "name": "stdout"
        },
        {
          "output_type": "error",
          "ename": "NameError",
          "evalue": "name 'z' is not defined",
          "traceback": [
            "\u001b[1;31m---------------------------------------------------------------------------\u001b[0m",
            "\u001b[1;31mNameError\u001b[0m                                 Traceback (most recent call last)",
            "\u001b[1;32m<ipython-input-4-7daaf5fb7255>\u001b[0m in \u001b[0;36m<module>\u001b[1;34m()\u001b[0m\n\u001b[0;32m      4\u001b[0m \u001b[0my\u001b[0m \u001b[1;33m=\u001b[0m \u001b[0mx\u001b[0m\u001b[1;33m+\u001b[0m\u001b[1;36m7\u001b[0m\u001b[1;33m\u001b[0m\u001b[0m\n\u001b[0;32m      5\u001b[0m \u001b[0mprint\u001b[0m\u001b[1;33m(\u001b[0m\u001b[0my\u001b[0m\u001b[1;33m)\u001b[0m\u001b[1;33m\u001b[0m\u001b[0m\n\u001b[1;32m----> 6\u001b[1;33m \u001b[0mprint\u001b[0m\u001b[1;33m(\u001b[0m\u001b[0mz\u001b[0m\u001b[1;33m)\u001b[0m\u001b[1;33m\u001b[0m\u001b[0m\n\u001b[0m",
            "\u001b[1;31mNameError\u001b[0m: name 'z' is not defined"
          ]
        }
      ]
    },
    {
      "cell_type": "markdown",
      "metadata": {
        "id": "_-jZ1o4hM17q",
        "colab_type": "text"
      },
      "source": [
        "In der 4. Zeile haben wir nun ein Beispiel für sogenannte Variablen. D.h. wir haben eine Zahl (bsp. 10) für später gespeichert und dies in x hinterlegt. x ist dabei eine Variable die nicht vorab definiert werden muß (in den meisten anderen Programmiersprachen muss zwingend vorab die Variable entweder einem Textwert, Zahlenwert und so weiter zugewiesen werden).\n",
        "\n",
        "Frage:\n",
        "Warum kam folgender Fehlerausdruck wie oben zu sehen zustande?"
      ]
    },
    {
      "cell_type": "code",
      "metadata": {
        "id": "PYdoUH-MM17r",
        "colab_type": "code",
        "colab": {},
        "outputId": "46a7ed73-f174-491e-ff6e-5f5c2c5acd39"
      },
      "source": [
        "list(range(10))"
      ],
      "execution_count": 0,
      "outputs": [
        {
          "output_type": "execute_result",
          "data": {
            "text/plain": [
              "[0, 1, 2, 3, 4, 5, 6, 7, 8, 9]"
            ]
          },
          "metadata": {
            "tags": []
          },
          "execution_count": 5
        }
      ]
    },
    {
      "cell_type": "markdown",
      "metadata": {
        "id": "vlpYKYzRM17v",
        "colab_type": "text"
      },
      "source": [
        "In Zeile 5 haben wir nun eine Liste (oder eindimensionale Tabelle) mit 10 Platzhaltern. Computer sind 0-basiert, daher beginnt die Liste bei 0 und nicht wie für uns üblich bei 1."
      ]
    },
    {
      "cell_type": "markdown",
      "metadata": {
        "id": "xLvMPsAWOjIX",
        "colab_type": "text"
      },
      "source": [
        "Hier ein paar Beispiel wie die Listen aussehen können und das verschiedene Konstellationen an Datentypen und Mischungen möglich sind."
      ]
    },
    {
      "cell_type": "code",
      "metadata": {
        "id": "vyGjIYZ0M71A",
        "colab_type": "code",
        "colab": {
          "base_uri": "https://localhost:8080/",
          "height": 34
        },
        "outputId": "d2b87938-a69f-426c-bb5d-84cee5183bde"
      },
      "source": [
        "liste_mit_ganzen_Zahlen = [1,2,3,4,5]\n",
        "liste_mit_strings = [\"Nürtingen\", \"Stuttgart\", \"München\"]\n",
        "liste_mit_gemischten_datentypen = [1,\"Nürtingen\", 1.32]\n",
        "liste_mit_gemischten_datentypen[2] #Es wird der dritte Datensatz dieser Liste ausgegeben (Merke: 0 = 1. Datensatz, 1 = 2. Datensatz, Datenplatz Nummer 2 der Liste = 3. Datensatz der Liste)"
      ],
      "execution_count": 1,
      "outputs": [
        {
          "output_type": "execute_result",
          "data": {
            "text/plain": [
              "1.32"
            ]
          },
          "metadata": {
            "tags": []
          },
          "execution_count": 1
        }
      ]
    },
    {
      "cell_type": "markdown",
      "metadata": {
        "id": "VlX-RV7-M17w",
        "colab_type": "text"
      },
      "source": [
        "## 1.3 Kontrollstrukturen"
      ]
    },
    {
      "cell_type": "markdown",
      "metadata": {
        "id": "4J3KsOi8M17x",
        "colab_type": "text"
      },
      "source": [
        "Kontrollstrukturen erweitern ein Programm um Sonderfallabfragen oder Schleifen. Sonderfallabfragen auch bekannt als If-Then-Else bw. Switches bieten die Möglichkeit sich für eine Weggabelung zu entscheiden. Bsp. Sollte der Studierende mehr als 40 Punkte erreicht haben, hat er bestanden. Bei weniger als 40 Punkten hat er nicht bestanden. Dies ist ein klassischer If-Then-Else-Fall.\n",
        "\n",
        "Um dies umzusetzen benötigt das Programm einen Vergleichsoperator \n",
        "== heißt \"ist gleich\", weitere sehen wie folgt aus: <, <=, >, >=, !=\n"
      ]
    },
    {
      "cell_type": "markdown",
      "metadata": {
        "id": "FmaO_Qh1M17y",
        "colab_type": "text"
      },
      "source": [
        "### 1.3.1 bedingte Anweisung (If-Then-Else)"
      ]
    },
    {
      "cell_type": "code",
      "metadata": {
        "id": "WTLHfbrQM17y",
        "colab_type": "code",
        "colab": {},
        "outputId": "559205bb-aa6c-4220-a91f-025fbf186647"
      },
      "source": [
        "person = input(\"Nationalität? \")\n",
        "if person == \"french\" or person == \"French\":\n",
        "\tprint(\"Préférez-vous parler français?\")\n",
        "elif person == \"italian\" or person == \"Italian\":\n",
        "\tprint(\"Preferisci parlare italiano?\")\n",
        "else:\n",
        "\tprint(\"Du bist weder Italiener noch Franzose.\")\n",
        "\tprint(\"Deshalb reden wir jetzt deutsch!\")"
      ],
      "execution_count": 0,
      "outputs": [
        {
          "output_type": "stream",
          "text": [
            "Nationalität? Deutsch\n",
            "Du bist weder Italiener noch Franzose.\n",
            "Deshalb reden wir jetzt deutsch!\n"
          ],
          "name": "stdout"
        }
      ]
    },
    {
      "cell_type": "markdown",
      "metadata": {
        "id": "aEia68aqM172",
        "colab_type": "text"
      },
      "source": [
        "Obige Form ist die umfassendste Form einer bedingten If-Then-Else-Anweisung. \n",
        "1. Wichtig ist zunächst das Einrücken der Instruktionen also der Anweisungen zu beachten, welche ausgeführt werden soll, sollte der Fall eintreten. Ist diese Anweisung nicht eingerückt kann es zu Fehlern kommen.\n",
        "2. Desweiteren sieht man nun hier die Vergleichsoperatoren mit zweimal == womit die abgefragte Variable mit dem festen Wert verglichen wird. Gibt man nun also deutsch ein, so wird dies in der zweiten Zeile mit french und French verglichen. Da es nicht zutrifft überspringt Python hier die Print-Instruktion. \n",
        "3. Mit elif können mehrere weitere Verzweigungen eröffnet werden, was sehr praktisch ist. Sollte auch dieser elif nicht zutreffen so wird man unweigerlich bei else landen und die darin enthaltenen Instruktionen werden sequentiell ausgeführt."
      ]
    },
    {
      "cell_type": "markdown",
      "metadata": {
        "id": "TxuDY9yFM172",
        "colab_type": "text"
      },
      "source": [
        "### 1.3.2 Schleifen (For-Schleife) "
      ]
    },
    {
      "cell_type": "markdown",
      "metadata": {
        "id": "U7wazFU8M173",
        "colab_type": "text"
      },
      "source": [
        "Damit der Computer wiederholt Dinge ausführen kann werden spezielle Codestrukturen genutzt. Sogenannte Schleifen. Der Name deutet bereits an, dass sich hier etwas wiederholt, unter Umständen endlos (was auch zum Absturz eines Programms führen kann, weswegen man vorsichtig im Umgang mit Schleifen sein sollte).\n",
        "\n",
        "Hier ein Beispiel für eine Schleife:"
      ]
    },
    {
      "cell_type": "code",
      "metadata": {
        "id": "sYdDmccwM175",
        "colab_type": "code",
        "colab": {},
        "outputId": "873aab69-f6ba-4031-9969-f774e2bc394d"
      },
      "source": [
        "for n in range(10):\n",
        "         print(n)\n",
        "         pass\n",
        "print(\"done\")"
      ],
      "execution_count": 0,
      "outputs": [
        {
          "output_type": "stream",
          "text": [
            "0\n",
            "1\n",
            "2\n",
            "3\n",
            "4\n",
            "5\n",
            "6\n",
            "7\n",
            "8\n",
            "9\n",
            "done\n"
          ],
          "name": "stdout"
        }
      ]
    },
    {
      "cell_type": "markdown",
      "metadata": {
        "id": "FyMmLFvbM179",
        "colab_type": "text"
      },
      "source": [
        "In dieser Zeile sehen wir nun den bereits bekannten Ausdruck range(10). Range ist eine Funktion welche einer arithmetischen Aufzählung entspricht, wie vorab schon gesehen. \n",
        "\n",
        "AUFGABE:\n",
        "Ändern Sie den Ausdruck auf range(4,10). Was ändert sich?\n",
        "\n",
        "-range(begin,end) kann wie man sieht, ebenfalls besonders im Zusammenhang mit For-Schleifen sehr effizient sein.\n",
        "\n",
        "Ebenso neu in dem obigen Ausdruck ist, dass wir nun print(n) stellen. Das heißt, dass von 0-9 stets die aktuelle Vergleichszahl beginnend bei 0 ausgegeben wird.\n",
        "\n",
        "Weiteres Beispiel:"
      ]
    },
    {
      "cell_type": "code",
      "metadata": {
        "id": "7e_-TLM9M17-",
        "colab_type": "code",
        "colab": {},
        "outputId": "a4afed65-c8b4-435f-87a2-652dc0f62da6"
      },
      "source": [
        "for n in range(10):\n",
        "    print(\"The square of\", n, \"is\", n*n)\n",
        "    pass\n",
        "print(\"done\")"
      ],
      "execution_count": 0,
      "outputs": [
        {
          "output_type": "stream",
          "text": [
            "The square of 0 is 0\n",
            "The square of 1 is 1\n",
            "The square of 2 is 4\n",
            "The square of 3 is 9\n",
            "The square of 4 is 16\n",
            "The square of 5 is 25\n",
            "The square of 6 is 36\n",
            "The square of 7 is 49\n",
            "The square of 8 is 64\n",
            "The square of 9 is 81\n",
            "done\n"
          ],
          "name": "stdout"
        }
      ]
    },
    {
      "cell_type": "markdown",
      "metadata": {
        "id": "inMDbab7M18B",
        "colab_type": "text"
      },
      "source": [
        "## 1.4 Kommentare"
      ]
    },
    {
      "cell_type": "markdown",
      "metadata": {
        "id": "no679XzgM18D",
        "colab_type": "text"
      },
      "source": [
        "Nicht zu vergessen ist, dass wir nicht immer mit einen Jupyter Notebook arbeiten. In der Regel arbeitet man direkt in einer IDE und dann bietet es sich an vor entsprechenden Funktionen oder Aufgaben Kommentare zu setzen um dem aufmerksamen Mitprogrammierer das Verstehen des Quellcodes zu erleichtern.\n",
        "\n",
        "Kommentare werden in diesem Zusammenhang mit dem Hashsymbol # vor der eigentlichen Zeile versehen. Das bedeutet, das egal was in dieser Zeile steht (Berechnungen, Text etc.) dies nicht kompiliert wird."
      ]
    },
    {
      "cell_type": "code",
      "metadata": {
        "id": "14t8vGVUM18E",
        "colab_type": "code",
        "colab": {},
        "outputId": "54cb351a-c185-414f-8ce9-a3c6f34551fc"
      },
      "source": [
        "# the following prints out the cube of 2\n",
        "print(2**3)"
      ],
      "execution_count": 0,
      "outputs": [
        {
          "output_type": "stream",
          "text": [
            "8\n"
          ],
          "name": "stdout"
        }
      ]
    },
    {
      "cell_type": "markdown",
      "metadata": {
        "id": "fYXG1e-zM18I",
        "colab_type": "text"
      },
      "source": [
        "## 1.5 Funktionen"
      ]
    },
    {
      "cell_type": "markdown",
      "metadata": {
        "id": "YRSE48XXM18K",
        "colab_type": "text"
      },
      "source": [
        "Werden von uns wiederverwendbare Anweisungen benötigt, so bieten einem Programmiersprachen die Möglichkeit diese als ordnungsgemäß definierte Funktionen aufzurufen. Ordnungsgemäß definiert bedeutet in diesem Zusammehang, dass es klar definierte Eingabewerte und auch klar definierte Ausgabewerte gibt. \n",
        "\n",
        "In folgendem Beispiel soll dieses Prinzip verdeutlicht werden. \n",
        "1. Wir werden zwei Werte übergeben. Beide Werte müßen Zahlenwerte sein.\n",
        "2. Wir werden einen Ausgabewert empfangen. Dieser Wert wird ein Zahlenwert sein."
      ]
    },
    {
      "cell_type": "code",
      "metadata": {
        "id": "yKwrilqtM18L",
        "colab_type": "code",
        "colab": {}
      },
      "source": [
        "# function that takes 2 numbers as input\n",
        "# and outputs their average\n",
        "def avg(x,y):\n",
        "    print(\"first input is\", x)\n",
        "    print(\"second input is\", y) \n",
        "    a = (x + y) / 2.0\n",
        "    print(\"average is\", a)\n",
        "    return a"
      ],
      "execution_count": 0,
      "outputs": []
    },
    {
      "cell_type": "markdown",
      "metadata": {
        "id": "Fl17lbNHM18N",
        "colab_type": "text"
      },
      "source": [
        "Was bewirkt dieser Code in Zeile 15. Die ersten beiden Zeilen mit den # werden ignoriert, da diese Kommentare sind. Die Anweisung def avg(x,y) teilt Python und auch uns mit, dass wir eine neue wiederverwendbare Funktion definieren. \n",
        "1. def steht hierbei für definieren. \n",
        "2. avg ist der Name der Funktion und steht in diesem Zusammenhang für average=Mittelwert. Der Name ist frei wählbar, sollte jedoch so nah wie möglich an der eigentlichen Bestimmung liegen. Mit def bananaaaaa(x,y) ist keinem wirklich geholfen. \n",
        "3. x,y stehen für die beiden Übergabewerte. Diese werden in die Funktion eingekippt. In unserem Fall (Python) benötigen wir keine genauere Definition welcher Art diese Werte entsprechen müssen (Zahlen, Texte, etc.).\n",
        "\n",
        "Lassen Sie uns nun die Funktion aufrufen, indem wir Zahlenwerte eingeben."
      ]
    },
    {
      "cell_type": "code",
      "metadata": {
        "id": "iB2ztos7M18N",
        "colab_type": "code",
        "colab": {},
        "outputId": "52e1453f-05dd-4d40-9195-af8a2956fa98"
      },
      "source": [
        "avg(2,4)"
      ],
      "execution_count": 0,
      "outputs": [
        {
          "output_type": "stream",
          "text": [
            "first input is 2\n",
            "second input is 4\n",
            "average is 3.0\n"
          ],
          "name": "stdout"
        },
        {
          "output_type": "execute_result",
          "data": {
            "text/plain": [
              "3.0"
            ]
          },
          "metadata": {
            "tags": []
          },
          "execution_count": 11
        }
      ]
    },
    {
      "cell_type": "markdown",
      "metadata": {
        "id": "g7Nzjj2MM18Q",
        "colab_type": "text"
      },
      "source": [
        "Wie man sehen kann, wird die in Zeile 15 definierte Funktion verwendet um aus den beiden Werten 2 und 4 den Mittelwert zu errechnen. Diese Funktion kann von nun beliebig oft aufgerufen werden."
      ]
    },
    {
      "cell_type": "code",
      "metadata": {
        "id": "sIoDerFxM18R",
        "colab_type": "code",
        "colab": {},
        "outputId": "f43945d1-cfc9-4e31-eeba-cace42dfdecb"
      },
      "source": [
        "avg(100,345)"
      ],
      "execution_count": 0,
      "outputs": [
        {
          "output_type": "stream",
          "text": [
            "first input is 100\n",
            "second input is 345\n",
            "average is 222.5\n"
          ],
          "name": "stdout"
        },
        {
          "output_type": "execute_result",
          "data": {
            "text/plain": [
              "222.5"
            ]
          },
          "metadata": {
            "tags": []
          },
          "execution_count": 12
        }
      ]
    },
    {
      "cell_type": "markdown",
      "metadata": {
        "id": "S1fBYqfmM18U",
        "colab_type": "text"
      },
      "source": [
        "## 1.6 Bibliotheken"
      ]
    },
    {
      "cell_type": "markdown",
      "metadata": {
        "id": "rlH_bOtEM18V",
        "colab_type": "text"
      },
      "source": [
        "Damit wir nun nicht das Rad neu erfinden müssen und alle bereits von anderen findigen Programmierern entwickelte Funktionen neu eintragen und definieren müssen, greifen wir auf sogenannte Bibliotheken zurück. Diese Bibliotheken bieten die Möglichkeit auf verschiedene Funktionen wie z.B. den Ausdruck in einem Graph darzustellen zuzugreifen.\n",
        "\n",
        "Wir starten nun mal mit der Bibliothek numpy. numpy enthält zweckmäßige Erweiterungen aus der Welt der Mathematik."
      ]
    },
    {
      "cell_type": "code",
      "metadata": {
        "id": "GxJN97S4M18V",
        "colab_type": "code",
        "colab": {}
      },
      "source": [
        "import numpy"
      ],
      "execution_count": 0,
      "outputs": []
    },
    {
      "cell_type": "code",
      "metadata": {
        "id": "NOexVkYsM18X",
        "colab_type": "code",
        "colab": {},
        "outputId": "e6555f0a-2f6f-4b38-d457-f17c4b3bbb8a"
      },
      "source": [
        "a = numpy.zeros( [3,2] )\n",
        "print(a)"
      ],
      "execution_count": 0,
      "outputs": [
        {
          "output_type": "stream",
          "text": [
            "[[0. 0.]\n",
            " [0. 0.]\n",
            " [0. 0.]]\n"
          ],
          "name": "stdout"
        }
      ]
    },
    {
      "cell_type": "markdown",
      "metadata": {
        "id": "wXmXPUTsM18d",
        "colab_type": "text"
      },
      "source": [
        "Um numpy oder weitere Bibliotheken nutzen zu können müssen diese zuvor installiert werden. Um diese zu installieren muß allerdings der Account einen Administratorzugang haben. Danach kann man mittels command line Pakete wie zum Beispiel das Tensorflow-Framework installieren.  "
      ]
    },
    {
      "cell_type": "code",
      "metadata": {
        "id": "SUVI0OWtM18e",
        "colab_type": "code",
        "colab": {},
        "outputId": "c8a9ca93-bf25-4440-ff5e-3fe4c6603f89"
      },
      "source": [
        "pip --version"
      ],
      "execution_count": 0,
      "outputs": [
        {
          "output_type": "stream",
          "text": [
            "\n",
            "The following command must be run outside of the IPython shell:\n",
            "\n",
            "    $ pip --version\n",
            "\n",
            "The Python package manager (pip) can only be used from outside of IPython.\n",
            "Please reissue the `pip` command in a separate terminal or command prompt.\n",
            "\n",
            "See the Python documentation for more information on how to install packages:\n",
            "\n",
            "    https://docs.python.org/3/installing/\n"
          ],
          "name": "stdout"
        }
      ]
    },
    {
      "cell_type": "markdown",
      "metadata": {
        "id": "pRn_mhe7M18j",
        "colab_type": "text"
      },
      "source": [
        "Wie man oben sehen kann geht dies nur in einer Shell und auch nur als Administrator. Sollte man nun z.B. die tensorflow-Bibliothek installieren wollen, so würde man folgenden Befehl nutzen. pip3 install --upgrade tensorflow"
      ]
    },
    {
      "cell_type": "code",
      "metadata": {
        "id": "HSqH9lQzM18k",
        "colab_type": "code",
        "colab": {}
      },
      "source": [
        "import numpy as np"
      ],
      "execution_count": 0,
      "outputs": []
    },
    {
      "cell_type": "markdown",
      "metadata": {
        "id": "6RszoiPAM18m",
        "colab_type": "text"
      },
      "source": [
        "Man kann den Namensraum einer Bibliothek auch verändern oder wie in der folgenden Zeile 23 nur einzelne Methoden/Funktionen importieren. In diesem Fall muß auch nicht der Bibliotheksname erwähnt werden."
      ]
    },
    {
      "cell_type": "code",
      "metadata": {
        "id": "ElsJi6CYM18m",
        "colab_type": "code",
        "colab": {}
      },
      "source": [
        "from math import sin, pi"
      ],
      "execution_count": 0,
      "outputs": []
    },
    {
      "cell_type": "code",
      "metadata": {
        "id": "uZI_HVJsM18p",
        "colab_type": "code",
        "colab": {},
        "outputId": "a3ba1487-827c-4e00-e5cb-f6bbc63062de"
      },
      "source": [
        "print(pi)"
      ],
      "execution_count": 0,
      "outputs": [
        {
          "output_type": "stream",
          "text": [
            "3.141592653589793\n"
          ],
          "name": "stdout"
        }
      ]
    },
    {
      "cell_type": "code",
      "metadata": {
        "id": "hauEc_BkM18u",
        "colab_type": "code",
        "colab": {},
        "outputId": "e0fa7648-4f9c-436c-fb31-67f0535edee3"
      },
      "source": [
        "print(sin(pi))"
      ],
      "execution_count": 0,
      "outputs": [
        {
          "output_type": "stream",
          "text": [
            "1.2246467991473532e-16\n"
          ],
          "name": "stdout"
        }
      ]
    },
    {
      "cell_type": "markdown",
      "metadata": {
        "id": "1ut15ytEM18w",
        "colab_type": "text"
      },
      "source": [
        "## 1.7 Arrays"
      ]
    },
    {
      "cell_type": "markdown",
      "metadata": {
        "id": "7lVpNAR_M18x",
        "colab_type": "text"
      },
      "source": [
        "Kommen wir zurück zu unserem Beispiel aus Zeile 19. Wir hatten in der Variablen a einen Array mit drei Zeilen und zwei Spalten erzeugt. Alle Werte wurden mittels zeros auf Null gesetzt."
      ]
    },
    {
      "cell_type": "code",
      "metadata": {
        "id": "jX50xmu3M18x",
        "colab_type": "code",
        "colab": {},
        "outputId": "18b0b447-18cf-475e-a3bf-797dc3490b1a"
      },
      "source": [
        "a = np.zeros( [3,2] )\n",
        "print(a)"
      ],
      "execution_count": 0,
      "outputs": [
        {
          "output_type": "stream",
          "text": [
            "[[0. 0.]\n",
            " [0. 0.]\n",
            " [0. 0.]]\n"
          ],
          "name": "stdout"
        }
      ]
    },
    {
      "cell_type": "markdown",
      "metadata": {
        "id": "h6q1U4AfM181",
        "colab_type": "text"
      },
      "source": [
        "Als nächstes modifizeren wir die Inhalte des Arrays. Dies kann z.B. wie folgt geschehen."
      ]
    },
    {
      "cell_type": "code",
      "metadata": {
        "id": "0WE-1UkHM182",
        "colab_type": "code",
        "colab": {},
        "outputId": "97f841fc-5f76-43ce-9e90-f8b24d3bef90"
      },
      "source": [
        "a[0,0] = 1\n",
        "a[0,1] = 2\n",
        "a[1,0] = 9\n",
        "a[2,1] = 12\n",
        "print(a)"
      ],
      "execution_count": 0,
      "outputs": [
        {
          "output_type": "stream",
          "text": [
            "[[ 1.  2.]\n",
            " [ 9.  0.]\n",
            " [ 0. 12.]]\n"
          ],
          "name": "stdout"
        }
      ]
    },
    {
      "cell_type": "markdown",
      "metadata": {
        "id": "iHWxd_njM184",
        "colab_type": "text"
      },
      "source": [
        "Die Ausgabe der einzelnen Werte des Arrays können auf mehreren Wegen wiedergegeben werden. Siehe folgendes Beispiel."
      ]
    },
    {
      "cell_type": "code",
      "metadata": {
        "id": "oqTdj_j5M184",
        "colab_type": "code",
        "colab": {},
        "outputId": "c9eb622c-86bb-4d8e-8c6b-c85a19ad95a3"
      },
      "source": [
        "print(a[0,1])\n",
        "v = a[1,0]\n",
        "print(v)"
      ],
      "execution_count": 0,
      "outputs": [
        {
          "output_type": "stream",
          "text": [
            "2.0\n",
            "9.0\n"
          ],
          "name": "stdout"
        }
      ]
    },
    {
      "cell_type": "markdown",
      "metadata": {
        "id": "JeWVeRX2M187",
        "colab_type": "text"
      },
      "source": [
        "Als nächstes werden wir mal den Array grafisch ausgeben. \n",
        "1. Dafür benötigen wir die Bibliothek matplotlib welche wir in Zeile 34 importieren. \n",
        "2. In Zeilte 35 geben wir an, dass die Grafik nicht in einem weiteren Fenster sondern direkt hier in unserem Notebook erfolgen soll. \n",
        "3. In Zeile 36 erfolgt dann die Anweisung der Ausgabe. Die Anweisung imshow() erzeugt dabei eine Grafik. Der erste Parameter ist das entsprechende array a. Der zweite Parameter beginnt mit interpolation was soviel bedeutet, wie dass die Farben nicht überblendet werden sollen."
      ]
    },
    {
      "cell_type": "code",
      "metadata": {
        "id": "RSy-dH5WM189",
        "colab_type": "code",
        "colab": {}
      },
      "source": [
        "import matplotlib.pyplot"
      ],
      "execution_count": 0,
      "outputs": []
    },
    {
      "cell_type": "code",
      "metadata": {
        "id": "k-p9s8d9M18_",
        "colab_type": "code",
        "colab": {}
      },
      "source": [
        "%matplotlib inline"
      ],
      "execution_count": 0,
      "outputs": []
    },
    {
      "cell_type": "code",
      "metadata": {
        "id": "GWdpk1fuM19B",
        "colab_type": "code",
        "colab": {},
        "outputId": "547de03f-e68d-4f16-ff84-942fd8bfb116"
      },
      "source": [
        "matplotlib.pyplot.imshow(a, interpolation=\"nearest\")"
      ],
      "execution_count": 0,
      "outputs": [
        {
          "output_type": "execute_result",
          "data": {
            "text/plain": [
              "<matplotlib.image.AxesImage at 0x7e11f60>"
            ]
          },
          "metadata": {
            "tags": []
          },
          "execution_count": 25
        },
        {
          "output_type": "display_data",
          "data": {
            "image/png": "[encoded data removed]",
            "text/plain": [
              "<Figure size 432x288 with 1 Axes>"
            ]
          },
          "metadata": {
            "tags": []
          }
        }
      ]
    },
    {
      "cell_type": "markdown",
      "metadata": {
        "id": "ZqiJ7eKqM19F",
        "colab_type": "text"
      },
      "source": [
        "## 1.8 Objekte und Klassen"
      ]
    },
    {
      "cell_type": "markdown",
      "metadata": {
        "id": "_-7srTocM19G",
        "colab_type": "text"
      },
      "source": [
        "Für unseren späteren Umgang mit neuronalen Netzen benötigen wir noch Objekte und Klassen. Objekte sind Instanzen einer Klasse. Umgangssprachlich könnte man auch sagen eine Klasse ist ein Kuchenrezept in einem Buch. Ein Objekt ist ein Kuchen, der nach diesem Rezept gebacken wurde. Aber hier ein Beispiel:"
      ]
    },
    {
      "cell_type": "code",
      "metadata": {
        "id": "opStQA3LM19G",
        "colab_type": "code",
        "colab": {}
      },
      "source": [
        "# class for a dog object\n",
        "class Dog:\n",
        "    # dogs can bark()\n",
        "    def bark(self):\n",
        "        print(\"woof!\")\n",
        "        pass\n",
        "    \n",
        "    pass"
      ],
      "execution_count": 0,
      "outputs": []
    },
    {
      "cell_type": "markdown",
      "metadata": {
        "id": "cqz0sLM9M19J",
        "colab_type": "text"
      },
      "source": [
        "In Zeile 37 haben wir nun folgendes. Zunächst kommt etwas bekanntes mit der Funktion bark() zu deutsch \"bellen\" und dem Ausgabebefehl \"woof!\". Desweiteren sehen wir nun ganz zu Beginn eine Initialisierung für Dog. Genauer eine Klassendefinition mit dem Schlüsselwort class."
      ]
    },
    {
      "cell_type": "code",
      "metadata": {
        "id": "jOEiIHROM19J",
        "colab_type": "code",
        "colab": {},
        "outputId": "54e798fb-8bc3-4101-af7e-7da2017155fd"
      },
      "source": [
        "sizzles = Dog()\n",
        "sizzles.bark()"
      ],
      "execution_count": 0,
      "outputs": [
        {
          "output_type": "stream",
          "text": [
            "woof!\n"
          ],
          "name": "stdout"
        }
      ]
    },
    {
      "cell_type": "markdown",
      "metadata": {
        "id": "HKSuD5tMM19R",
        "colab_type": "text"
      },
      "source": [
        "In Zeile 38 wird zunächst eine Variable mit dem Namen sizzles erzeugt. Diese Variable zeigt auf die Klasse Dog(). Wir haben dadurch eine Variable erzeugt welche genauer ein Objekt basierend auf der Klasse Dog() darstellt. Etwas ungewöhnlich und Pythontypisch ist hier das self in def bark(self). self steht hier damit Python die erzeugte Funktion dem richtigen Objekt zuweist, was jedoch auf der Hand liegt."
      ]
    },
    {
      "cell_type": "code",
      "metadata": {
        "id": "AWPO_IRiM19S",
        "colab_type": "code",
        "colab": {},
        "outputId": "e6fc2cf3-0826-49d8-dc96-03a9963ffd5f"
      },
      "source": [
        "sizzles = Dog()\n",
        "mutley = Dog()\n",
        "sizzles.bark()\n",
        "mutley.bark()"
      ],
      "execution_count": 0,
      "outputs": [
        {
          "output_type": "stream",
          "text": [
            "woof!\n",
            "woof!\n"
          ],
          "name": "stdout"
        }
      ]
    },
    {
      "cell_type": "markdown",
      "metadata": {
        "id": "AWBNl1p1M19Y",
        "colab_type": "text"
      },
      "source": [
        "Wozu das Ganze. Nun es wird gemacht um eine Vorlage zu erstellen von der mehrere gleichartige Objekte abstammen. Man spart sich somit die Zeit jedes ähnliche Objekt neu erzeugen zu müssen. Diese Objektfunktionen werden gemeinhin als Methoden bezeichnet."
      ]
    },
    {
      "cell_type": "markdown",
      "metadata": {
        "id": "LsBtT7ObM19Z",
        "colab_type": "text"
      },
      "source": [
        "Im nächsten Schritt werden wir nun einer Klasse Datenvariablen hinzufügen sowie einige Methoden um diese Daten objektbasierend anzuzeigen oder zu ändern."
      ]
    },
    {
      "cell_type": "code",
      "metadata": {
        "id": "-jlDEoChM19a",
        "colab_type": "code",
        "colab": {}
      },
      "source": [
        "# class for a dog object\n",
        "class Dog:\n",
        "    \n",
        "    # initialisation method with internal data\n",
        "    def __init__(self, petname, temp):\n",
        "        self.name = petname;\n",
        "        self.temperature = temp;\n",
        "    \n",
        "    # get status\n",
        "    def status(self):\n",
        "        print(\"dog name is \", self.name)\n",
        "        print(\"dog temperature is \", self.temperature)\n",
        "        pass\n",
        "    \n",
        "    # set temperature\n",
        "    def setTemperature(self,temp):\n",
        "        self.temperature = temp;\n",
        "        pass\n",
        "    \n",
        "    # dogs can bark()\n",
        "    def bark(self):\n",
        "        print(\"woof!\")\n",
        "        pass\n",
        "    \n",
        "    pass"
      ],
      "execution_count": 0,
      "outputs": []
    },
    {
      "cell_type": "markdown",
      "metadata": {
        "id": "KN1a5L2cM19d",
        "colab_type": "text"
      },
      "source": [
        "Hier sind nun drei neue Funktionen hinzugekommen. Neben bark() sehen wir nun eine Funktion __init__(), status() und setTemperature(). In den Klammern werden nun zusätzliche Informationen angefordert. Eingangsdaten, welche benötigt werden um den Funktionsrumpf ausführen zu können. __init__() hat in Python eine spezielle Bedeutung. Diese Funktion ruft Python immer dann auf um ein Objekt vorzubereiten. Übergeben werden dabei zwei Variablen Temperature (temp) und Petname (petname) welche durch self gekennzeichnet werden, dass diese übergebenen Werte nur in diesem Objekt und nicht in der Klasse gespeichert werden. status() gibt die Eingabewerte wieder aus. In setTemperature wird klar, dass die Variable für dieses Objekt jederzeit geöndert werden kann."
      ]
    },
    {
      "cell_type": "code",
      "metadata": {
        "id": "MkNSS8xtM19e",
        "colab_type": "code",
        "colab": {}
      },
      "source": [
        "#create a new dog object\n",
        "lassie = Dog(\"Lassie\", 37)"
      ],
      "execution_count": 0,
      "outputs": []
    },
    {
      "cell_type": "code",
      "metadata": {
        "id": "RpYLq6X-M19i",
        "colab_type": "code",
        "colab": {},
        "outputId": "0253df1d-7f8a-4cf8-a924-a1e8ccd4419d"
      },
      "source": [
        "lassie.setTemperature(40)\n",
        "lassie.status()"
      ],
      "execution_count": 0,
      "outputs": [
        {
          "output_type": "stream",
          "text": [
            "dog name is  Lassie\n",
            "dog temperature is  40\n"
          ],
          "name": "stdout"
        }
      ]
    },
    {
      "cell_type": "markdown",
      "metadata": {
        "id": "juk4r2fQM19k",
        "colab_type": "text"
      },
      "source": [
        "Wir können hier nun sehen, dass wir jederzeit neue Objekte anlegen können oder für vorhandene Objekte die Variablen ändern können."
      ]
    },
    {
      "cell_type": "markdown",
      "metadata": {
        "id": "Y8pRLSs-M19l",
        "colab_type": "text"
      },
      "source": [
        "Das war's für Erste. Jetzt geht's weiter mit dem Aufbau eines neuronalen Netzes in 1.2 Neuronales Netz mit Python 3.x"
      ]
    },
    {
      "cell_type": "code",
      "metadata": {
        "id": "_srPXBJnM19l",
        "colab_type": "code",
        "colab": {}
      },
      "source": [
        ""
      ],
      "execution_count": 0,
      "outputs": []
    }
  ]
}