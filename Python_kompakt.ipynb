{
  "nbformat": 4,
  "nbformat_minor": 0,
  "metadata": {
    "colab": {
      "name": "Python_kompakt.ipynb",
      "version": "0.3.2",
      "provenance": [],
      "collapsed_sections": [],
      "include_colab_link": true
    },
    "kernelspec": {
      "name": "python3",
      "display_name": "Python 3"
    }
  },
  "cells": [
    {
      "cell_type": "markdown",
      "metadata": {
        "id": "view-in-github",
        "colab_type": "text"
      },
      "source": [
        "<a href=\"https://colab.research.google.com/github/MatMaxEngel/python_learngroup/blob/master/Python_kompakt.ipynb\" target=\"_parent\"><img src=\"https://colab.research.google.com/assets/colab-badge.svg\" alt=\"Open In Colab\"/></a>"
      ]
    },
    {
      "cell_type": "markdown",
      "metadata": {
        "id": "GIhNkpe3rnr1",
        "colab_type": "text"
      },
      "source": [
        "# Überschrift\n",
        "**Fettgedruckte** *kursive* Inhalte\n",
        "\n",
        "![alt text](http://media.einfachtierisch.de/thumbnail/600/0/media.einfachtierisch.de/images/2013/01/Junge-Katze-Erziehen.jpg)"
      ]
    },
    {
      "cell_type": "markdown",
      "metadata": {
        "id": "RV1P8P-nr8A6",
        "colab_type": "text"
      },
      "source": [
        ""
      ]
    },
    {
      "cell_type": "code",
      "metadata": {
        "id": "zRyZTKOer_ra",
        "colab_type": "code",
        "outputId": "9c0e778c-989d-469a-ded2-afafa071e389",
        "colab": {
          "base_uri": "https://localhost:8080/"
        }
      },
      "source": [
        "2+2"
      ],
      "execution_count": 0,
      "outputs": [
        {
          "output_type": "execute_result",
          "data": {
            "text/plain": [
              "4"
            ]
          },
          "metadata": {
            "tags": []
          },
          "execution_count": 1
        }
      ]
    },
    {
      "cell_type": "markdown",
      "metadata": {
        "id": "9dgCDZLCtbbO",
        "colab_type": "text"
      },
      "source": [
        "# Erster Eindruck gewinnen mittels mathematischer Operatoren\n",
        "\n",
        "+ - * ** / // %"
      ]
    },
    {
      "cell_type": "code",
      "metadata": {
        "id": "8-XhB2-Ctk4n",
        "colab_type": "code",
        "colab": {
          "base_uri": "https://localhost:8080/",
          "height": 34
        },
        "outputId": "22fb1e23-7616-43cb-ed38-fb8f98098dfb"
      },
      "source": [
        "2+2"
      ],
      "execution_count": 2,
      "outputs": [
        {
          "output_type": "execute_result",
          "data": {
            "text/plain": [
              "4"
            ]
          },
          "metadata": {
            "tags": []
          },
          "execution_count": 2
        }
      ]
    },
    {
      "cell_type": "code",
      "metadata": {
        "id": "5ASnD1pwtnwU",
        "colab_type": "code",
        "colab": {
          "base_uri": "https://localhost:8080/",
          "height": 34
        },
        "outputId": "76ad3c48-59d3-42d8-d13c-72d872735748"
      },
      "source": [
        "# Zwei Werte multiplizieren\n",
        "2*2"
      ],
      "execution_count": 4,
      "outputs": [
        {
          "output_type": "execute_result",
          "data": {
            "text/plain": [
              "4"
            ]
          },
          "metadata": {
            "tags": []
          },
          "execution_count": 4
        }
      ]
    },
    {
      "cell_type": "code",
      "metadata": {
        "id": "3qLOc4Z5txuW",
        "colab_type": "code",
        "colab": {
          "base_uri": "https://localhost:8080/",
          "height": 34
        },
        "outputId": "aff93e33-7a3d-4a09-ebb9-f912e75194f8"
      },
      "source": [
        "# zweimal ** bedeutet hoch den Wert dahinter\n",
        "2**4"
      ],
      "execution_count": 6,
      "outputs": [
        {
          "output_type": "execute_result",
          "data": {
            "text/plain": [
              "16"
            ]
          },
          "metadata": {
            "tags": []
          },
          "execution_count": 6
        }
      ]
    },
    {
      "cell_type": "code",
      "metadata": {
        "id": "Qne4D6Qxt8mH",
        "colab_type": "code",
        "colab": {
          "base_uri": "https://localhost:8080/",
          "height": 52
        },
        "outputId": "34f30fc5-4018-4f28-c9ee-85bdd95f5202"
      },
      "source": [
        "print(16/3)\n",
        "print(16//3)"
      ],
      "execution_count": 16,
      "outputs": [
        {
          "output_type": "stream",
          "text": [
            "5.333333333333333\n",
            "5\n"
          ],
          "name": "stdout"
        }
      ]
    },
    {
      "cell_type": "code",
      "metadata": {
        "id": "TJgyIyZsuEc3",
        "colab_type": "code",
        "colab": {
          "base_uri": "https://localhost:8080/",
          "height": 34
        },
        "outputId": "17a726b9-fd47-4ea0-9a66-8db643fdf53d"
      },
      "source": [
        "16//3"
      ],
      "execution_count": 10,
      "outputs": [
        {
          "output_type": "execute_result",
          "data": {
            "text/plain": [
              "5"
            ]
          },
          "metadata": {
            "tags": []
          },
          "execution_count": 10
        }
      ]
    },
    {
      "cell_type": "code",
      "metadata": {
        "id": "1KmU1tynuI0G",
        "colab_type": "code",
        "colab": {
          "base_uri": "https://localhost:8080/",
          "height": 34
        },
        "outputId": "feec1ee6-de8d-4f63-eb41-5adfc64bedda"
      },
      "source": [
        "18%3"
      ],
      "execution_count": 13,
      "outputs": [
        {
          "output_type": "execute_result",
          "data": {
            "text/plain": [
              "0"
            ]
          },
          "metadata": {
            "tags": []
          },
          "execution_count": 13
        }
      ]
    },
    {
      "cell_type": "code",
      "metadata": {
        "id": "u4DjHPgsuSof",
        "colab_type": "code",
        "colab": {
          "base_uri": "https://localhost:8080/",
          "height": 34
        },
        "outputId": "7b098666-4e19-4783-ce95-ae796201748e"
      },
      "source": [
        "print(\"Hallo OD\")"
      ],
      "execution_count": 14,
      "outputs": [
        {
          "output_type": "stream",
          "text": [
            "Hallo OD\n"
          ],
          "name": "stdout"
        }
      ]
    },
    {
      "cell_type": "markdown",
      "metadata": {
        "id": "RNnOtMyIwmL0",
        "colab_type": "text"
      },
      "source": [
        "# Variablen\n",
        "Inhalt veränderlich während der Korpus/Behälter einen festen Namen/ID bekommt"
      ]
    },
    {
      "cell_type": "code",
      "metadata": {
        "id": "3Ec0Jtg0wtcO",
        "colab_type": "code",
        "colab": {
          "base_uri": "https://localhost:8080/",
          "height": 157
        },
        "outputId": "36ad6535-bf49-4c19-fcf8-6040f1127cc4"
      },
      "source": [
        "# Ganzzahl\n",
        "a=2\n",
        "print(a)\n",
        "a=4\n",
        "print(a)\n",
        "print(type(a))\n",
        "# Gleitkommazahl\n",
        "b=5.3333\n",
        "print(b)\n",
        "print(type(b))\n",
        "# Text\n",
        "c=\"Hallo OD, heute ist ein sonniger Tag\"\n",
        "print(c)\n",
        "print(type(c))\n",
        "# Fallunterscheidung boolean\n",
        "d= \"TRUE\"\n",
        "print(type(d))"
      ],
      "execution_count": 27,
      "outputs": [
        {
          "output_type": "stream",
          "text": [
            "2\n",
            "4\n",
            "<class 'int'>\n",
            "5.3333\n",
            "<class 'float'>\n",
            "Hallo OD, heute ist ein sonniger Tag\n",
            "<class 'str'>\n",
            "<class 'str'>\n"
          ],
          "name": "stdout"
        }
      ]
    },
    {
      "cell_type": "code",
      "metadata": {
        "id": "KtGGSBM4y-e3",
        "colab_type": "code",
        "colab": {
          "base_uri": "https://localhost:8080/",
          "height": 52
        },
        "outputId": "425c6a46-718d-4d71-e805-7bc80892f32b"
      },
      "source": [
        "# Fragen zu Variablen\n",
        "#hallo =4\n",
        "print(4)\n",
        "\n",
        "#boolean = Fallunterscheidung bedingten ANweisungen und Schleifen\n",
        "#print(z)\n",
        "z=5\n",
        "print(z)"
      ],
      "execution_count": 32,
      "outputs": [
        {
          "output_type": "stream",
          "text": [
            "4\n",
            "5\n"
          ],
          "name": "stdout"
        }
      ]
    },
    {
      "cell_type": "markdown",
      "metadata": {
        "id": "InZ423cJ0Wne",
        "colab_type": "text"
      },
      "source": [
        "# Listen (eindimensional)"
      ]
    },
    {
      "cell_type": "code",
      "metadata": {
        "id": "xZZabLlr0ald",
        "colab_type": "code",
        "colab": {
          "base_uri": "https://localhost:8080/",
          "height": 140
        },
        "outputId": "b18a17c5-c272-4944-9a58-7857ebe1ddf2"
      },
      "source": [
        "My_VN_List=[\"Peter\",\"Mark\",\"Lisa\",\"Anne\",\"Mathias\"]\n",
        "print(My_VN_List)\n",
        "print(type(My_VN_List))\n",
        "n=4\n",
        "print(My_VN_List[n])\n",
        "\n",
        "Nummernliste=[1,2,3,4,5,6]\n",
        "print(Nummernliste)\n",
        "print(Nummernliste[1])\n",
        "print(len(Nummernliste))\n",
        "\n",
        "GemischteListe=[\"Textwert\",1,1.232023020,\"weiterer Textwert\"]\n",
        "print(GemischteListe)"
      ],
      "execution_count": 52,
      "outputs": [
        {
          "output_type": "stream",
          "text": [
            "['Peter', 'Mark', 'Lisa', 'Anne', 'Mathias']\n",
            "<class 'list'>\n",
            "Mathias\n",
            "[1, 2, 3, 4, 5, 6]\n",
            "2\n",
            "6\n",
            "['Textwert', 1, 1.23202302, 'weiterer Textwert']\n"
          ],
          "name": "stdout"
        }
      ]
    },
    {
      "cell_type": "markdown",
      "metadata": {
        "id": "iDXo_FKi9jHJ",
        "colab_type": "text"
      },
      "source": [
        "# Funktionen\n",
        "wiederverwendbare Anweisungen - mehrmals aufrufbar mit unterschiedlichen Werten"
      ]
    },
    {
      "cell_type": "code",
      "metadata": {
        "id": "3GiWczb79qdu",
        "colab_type": "code",
        "colab": {
          "base_uri": "https://localhost:8080/",
          "height": 140
        },
        "outputId": "5671fcc7-3e57-4461-a391-993dc241e1cd"
      },
      "source": [
        "def average(x,y):\n",
        "  durchschnitt=(x+y)/2\n",
        "  print(durchschnitt)\n",
        "  print(type(x))\n",
        "  print(type(durchschnitt))\n",
        "  return durchschnitt\n",
        "\n",
        "hfwu=average(2,4)\n",
        "print(type(average))\n",
        "print(type(hfwu))\n",
        "print(hfwu)\n",
        "\n",
        "\n",
        "\n",
        "def raederwechsel(x,y):\n",
        "  rueckgabewert=x+y\n",
        "  return rueckgabewert\n",
        "\n",
        "variable_fuer_raeder=raederwechsel(3,3)\n",
        "\n",
        "print(variable_fuer_raeder)\n"
      ],
      "execution_count": 60,
      "outputs": [
        {
          "output_type": "stream",
          "text": [
            "3.0\n",
            "<class 'int'>\n",
            "<class 'float'>\n",
            "<class 'function'>\n",
            "<class 'float'>\n",
            "3.0\n",
            "6\n"
          ],
          "name": "stdout"
        }
      ]
    },
    {
      "cell_type": "markdown",
      "metadata": {
        "id": "UKwLXZfDEFwI",
        "colab_type": "text"
      },
      "source": [
        "# Kontrollstrukturen\n",
        "## Bedingte Anweisungen (IF-Then-Else)"
      ]
    },
    {
      "cell_type": "code",
      "metadata": {
        "id": "F2UeqkfCFfBb",
        "colab_type": "code",
        "colab": {
          "base_uri": "https://localhost:8080/",
          "height": 52
        },
        "outputId": "6d66c769-7201-483c-d667-2848eae49a06"
      },
      "source": [
        "if 2 > 3:\n",
        "  print(\"kann nicht sein\")\n",
        "elif 3<4 and 3!=4 and 4==5:\n",
        "  print(\"Kann das sein?\") \n",
        "elif 3!=4 and 4==5:\n",
        "  print(\"Das ist denkbar\")\n",
        "else:\n",
        "  print(\"Das ist richtig\")\n",
        "  \n",
        "print(\"Getan\")"
      ],
      "execution_count": 72,
      "outputs": [
        {
          "output_type": "stream",
          "text": [
            "Das ist richtig\n",
            "Getan\n"
          ],
          "name": "stdout"
        }
      ]
    },
    {
      "cell_type": "code",
      "metadata": {
        "id": "PS9_QleRISTJ",
        "colab_type": "code",
        "colab": {
          "base_uri": "https://localhost:8080/",
          "height": 105
        },
        "outputId": "e1043edd-788b-4a08-c5da-2cbd6af92196"
      },
      "source": [
        "pstone=int(input(\"Wert eingeben\"))\n",
        "print(pstone)\n",
        "print(type(pstone))\n",
        "m=pstone\n",
        "if m >0 and m<5:\n",
        "  print(m)\n",
        "elif m>=5 and m<10:\n",
        "  print(\"zweite Abfrage\")\n",
        "elif m >=10 and m<15:\n",
        "  print(\"dritte Abfrage\")\n",
        "else:\n",
        "  print(\"Else\")\n",
        "  \n",
        "#Fertige Print\n",
        "print(\"Fertig\")\n",
        "\n",
        "#Direktvergleich ==\n",
        "#Ungleich !=\n",
        "#größer > und kleiner <"
      ],
      "execution_count": 92,
      "outputs": [
        {
          "output_type": "stream",
          "text": [
            "Wert eingeben8\n",
            "8\n",
            "<class 'int'>\n",
            "zweite Abfrage\n",
            "Fertig\n"
          ],
          "name": "stdout"
        }
      ]
    },
    {
      "cell_type": "markdown",
      "metadata": {
        "id": "cceeWEtBNv73",
        "colab_type": "text"
      },
      "source": [
        "# Schleifen"
      ]
    },
    {
      "cell_type": "code",
      "metadata": {
        "id": "w-S77mzuN5JO",
        "colab_type": "code",
        "colab": {
          "base_uri": "https://localhost:8080/",
          "height": 298
        },
        "outputId": "0cbf162e-e813-4b3f-8e5c-204b54d7fd38"
      },
      "source": [
        "def neuername_funktion(x,y):\n",
        "  durchschnitt=(x+y)/2\n",
        "  return durchschnitt\n",
        "\n",
        "a=2\n",
        "b=10\n",
        "\n",
        "for n in range(a,b):\n",
        "  print(\"der Zähler n lautet aktuell: \",n)\n",
        "  neue_variable=neuername_funktion(n,n**2)\n",
        "  print(\"Der Rückgabewert aus der aufgerufenene Funktion lautet: \",neue_variable)"
      ],
      "execution_count": 105,
      "outputs": [
        {
          "output_type": "stream",
          "text": [
            "der Zähler n lautet aktuell:  2\n",
            "Der Rückgabewert aus der aufgerufenene Funktion lautet:  3.0\n",
            "der Zähler n lautet aktuell:  3\n",
            "Der Rückgabewert aus der aufgerufenene Funktion lautet:  6.0\n",
            "der Zähler n lautet aktuell:  4\n",
            "Der Rückgabewert aus der aufgerufenene Funktion lautet:  10.0\n",
            "der Zähler n lautet aktuell:  5\n",
            "Der Rückgabewert aus der aufgerufenene Funktion lautet:  15.0\n",
            "der Zähler n lautet aktuell:  6\n",
            "Der Rückgabewert aus der aufgerufenene Funktion lautet:  21.0\n",
            "der Zähler n lautet aktuell:  7\n",
            "Der Rückgabewert aus der aufgerufenene Funktion lautet:  28.0\n",
            "der Zähler n lautet aktuell:  8\n",
            "Der Rückgabewert aus der aufgerufenene Funktion lautet:  36.0\n",
            "der Zähler n lautet aktuell:  9\n",
            "Der Rückgabewert aus der aufgerufenene Funktion lautet:  45.0\n"
          ],
          "name": "stdout"
        }
      ]
    }
  ]
}